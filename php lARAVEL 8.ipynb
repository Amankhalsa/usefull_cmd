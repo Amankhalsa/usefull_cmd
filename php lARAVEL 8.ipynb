{
    "cells": [
        {
            "cell_type": "code",
            "execution_count": null,
            "source": [
                "# URL section \r\n",
                "    * <a href=\"{{ url ('/')}}\">Home </a> |\r\n",
                "    * <a href=\"{{ url ('/about')}}\">About  </a> |\r\n",
                "    * <a href=\"{{ url ('/contact')}}\">Contact  </a> |           \r\n",
                "                "
            ],
            "outputs": [],
            "metadata": {}
        },
        {
            "cell_type": "markdown",
            "source": [],
            "metadata": {}
        }
    ],
    "metadata": {
        "orig_nbformat": 4,
        "language_info": {
            "name": "python"
        }
    },
    "nbformat": 4,
    "nbformat_minor": 2
}