{
    "cells": [
        {
            "cell_type": "markdown",
            "source": [
                "# URL section 1ST Method \r\n",
                "    * <a href=\"{{ url ('/')}}\">Home </a> |\r\n",
                "    * <a href=\"{{ url ('/about')}}\">About  </a> |\r\n",
                "    * <a href=\"{{ url ('/contact')}}\">Contact  </a> |           \r\n",
                "                "
            ],
            "metadata": {}
        },
        {
            "cell_type": "markdown",
            "source": [
                "# URL section 2nd  Method  \r\n",
                "    *   <a href=\"{{ URL::to('/about')}}\">About  </a> |\r\n",
                "\r\n"
            ],
            "metadata": {}
        },
        {
            "cell_type": "markdown",
            "source": [],
            "metadata": {}
        }
    ],
    "metadata": {
        "orig_nbformat": 4,
        "language_info": {
            "name": "python"
        }
    },
    "nbformat": 4,
    "nbformat_minor": 2
}