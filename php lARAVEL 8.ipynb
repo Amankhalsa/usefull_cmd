{
    "cells": [
        {
            "cell_type": "markdown",
            "source": [
                "# URL section 1ST Method \r\n",
                "    * <a href=\"{{ url ('/')}}\">Home </a> |\r\n",
                "    * <a href=\"{{ url ('/about')}}\">About  </a> |\r\n",
                "    * <a href=\"{{ url ('/contact')}}\">Contact  </a> |           \r\n",
                "                "
            ],
            "metadata": {}
        },
        {
            "cell_type": "markdown",
            "source": [
                "# URL section 2nd  Method  \r\n",
                "    * <a href=\"{{ URL::to('/about')}}\">About  </a> |\r\n",
                "\r\n"
            ],
            "metadata": {}
        },
        {
            "cell_type": "markdown",
            "source": [
                "# URL section 3rd   Method  \r\n",
                "    * in routes/web.php use this below syntax\r\n",
                "    * Route::get('/contact-this-is', [ContactController::class,'index'])->name('con');\r\n",
                "    * <a href=\"{{ route('con')}}\">Contact  </a> |"
            ],
            "metadata": {}
        },
        {
            "cell_type": "markdown",
            "source": [],
            "metadata": {}
        }
    ],
    "metadata": {
        "orig_nbformat": 4,
        "language_info": {
            "name": "python"
        }
    },
    "nbformat": 4,
    "nbformat_minor": 2
}