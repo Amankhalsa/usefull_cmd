{
    "cells": [
        {
            "cell_type": "markdown",
            "source": [
                "# Laravel 8 configuration steps:"
            ],
            "metadata": {}
        },
        {
            "cell_type": "markdown",
            "source": [
                "# composer-setup:  \r\n",
                "   *  php -r \"copy('https://getcomposer.org/installer', 'composer-setup.php');\"\r\n",
                "   * php -r \"if (hash_file('sha384', 'composer-setup.php') === '756890a4488ce9024fc62c56153228907f1545c228516cbf63f885e036d37e9a59d27d63f46af1d4d07ee0f76181c7d3') { echo 'Installer verified'; } else { echo 'Installer corrupt'; unlink('composer-setup.php'); } echo PHP_EOL;\"\r\n",
                "    * php composer-setup.php\r\n",
                "    * php -r \"unlink('composer-setup.php');\"\r\n",
                "    * paste these above in project folder by  cmd \r\n",
                "# First project: \r\n",
                "   * 1st: composer create-project --prefer-dist laravel/laravel my-blog\r\n",
                "\r\n",
                "# if Error:\r\n",
                "   * 'composer' is not recognized as an internal or external command, operable program or batch file. link=.https://www.youtube.com/watch?v=vNmx1Za9AFM\r\n",
                "# Then add path\r\n",
                "   *  Change dir then  2nd \r\n",
                "   *  php artisan serve\r\n",
                "\r\n",
                "# working with controler::\r\n",
                "   *  link: https://laravel.com/docs/8.x/controllers\r\n",
                "   *  Make contact controler with this cmd\r\n",
                "   *  php artisan make:controller ContactController\r\n",
                "\r\n",
                "# Add this on  ContactController in from controller folder \r\n",
                "        public function index(){\r\n",
                "        // echo \"<h1>This is a contact page </h1>\";\r\n",
                "        return view('contact');\r\n",
                "            }\r\n",
                "# Go to in Routes  dir\r\n",
                "   * // Route::get('/contact', 'ContactControlle@index');  // laraver 6, 7  \r\n",
                "\r\n",
                "   * for laravel 8 \r\n",
                "\r\n",
                "   * above:  use App\\Http\\Controllers\\ContactController; \r\n",
                "\r\n",
                "   * bottom: Route::get('/contact', [ContactController::class,'index']);\r\n",
                "\r\n",
                "# Defining Middleware:\r\n",
                "   * Run this: php artisan make:middleware CheckAge\r\n",
                "   * then add this below in CheckAge which you have created :\r\n",
                "   * public function handle(Request $request, Closure $next)\r\n",
                "    {\r\n",
                "        \r\n",
                "if($request-> age <= 20)\r\n",
                "\t{\r\n",
                "      return redirect('home');\r\n",
                "        \t\t\t}\r\n",
                "\r\n",
                "        return $next($request);\r\n",
                "    }\r\n",
                "\r\n",
                "\r\n",
                "* add this in  kernel.php for registration \r\n",
                "        'age' => \\App\\Http\\Middleware\\CheckAge::class,\r\n"
            ],
            "metadata": {}
        },
        {
            "cell_type": "markdown",
            "source": [
                "# how work with URL in laravel 8: \r\n",
                "# URL section 1ST Method \r\n",
                "      * <a href=\"{{ url ('/')}}\">Home </a> |\r\n",
                "      * <a href=\"{{ url ('/about')}}\">About  </a> |\r\n",
                "    "
            ],
            "metadata": {}
        },
        {
            "cell_type": "markdown",
            "source": [
                "# URL section 2nd  Method  \r\n",
                "      * <a href=\"{{ URL::to('/about')}}\">About  </a> |\r\n",
                "# URL section 3rd   Method  \r\n",
                "   * in routes/web.php use this below syntax\r\n",
                "   * Route::get('/contact"
            ],
            "metadata": {}
        },
        {
            "cell_type": "code",
            "execution_count": null,
            "source": [
                "# URL section 2nd  Method  \r\n",
                "    * <a href=\"{{ URL::to('/about')}}\">About  </a> |\r\n",
                "# URL section 3rd   Method  \r\n",
                "   *  in routes/web.php use this below syntax\r\n"
            ],
            "outputs": [],
            "metadata": {}
        },
        {
            "cell_type": "markdown",
            "source": [
                "# Laravel 8 Installation of jetstream:  (Authentication installation) steps\r\n",
                "   * Open project folder by CMD then run these CMD's\r\n",
                "   * Official site link: https://jetstream.laravel.com/2.x/installation.html\r\n",
                "   * 1st CMD: composer require laravel/jetstream\r\n",
                "   * 2nd CMD: php artisan jetstream:install livewire \r\n",
                "# Aman this is required if you wana to access default login & Register\r\n",
                "   * npm install && npm run dev\r\n",
                "   * php artisan migrate\r\n",
                "# Path required \r\n",
                "   * D:\\xamp\\php\r\n",
                "   * C:\\Program Files\\nodejs\r\n"
            ],
            "metadata": {}
        },
        {
            "cell_type": "markdown",
            "source": [],
            "metadata": {}
        }
    ],
    "metadata": {
        "orig_nbformat": 4,
        "language_info": {
            "name": "python"
        }
    },
    "nbformat": 4,
    "nbformat_minor": 2
}