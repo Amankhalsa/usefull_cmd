{
  "nbformat": 4,
  "nbformat_minor": 0,
  "metadata": {
    "interpreter": {
      "hash": "f371c82f0e1a8b47d879de9d83956d61a027dd46fd89a2669d7c6401fb2a4dec"
    },
    "kernelspec": {
      "display_name": "Python 3.8.8rc1 64-bit",
      "name": "python3"
    },
    "language_info": {
      "name": "python",
      "version": ""
    },
    "orig_nbformat": 4,
    "colab": {
      "name": "Wifi Password finder.ipynb",
      "provenance": [],
      "include_colab_link": true
    }
  },
  "cells": [
    {
      "cell_type": "markdown",
      "metadata": {
        "id": "view-in-github",
        "colab_type": "text"
      },
      "source": [
        "<a href=\"https://colab.research.google.com/github/Amankhalsa/usefull_cmd/blob/main/Wifi_Password_finder.ipynb\" target=\"_parent\"><img src=\"https://colab.research.google.com/assets/colab-badge.svg\" alt=\"Open In Colab\"/></a>"
      ]
    },
    {
      "cell_type": "markdown",
      "metadata": {
        "id": "VU28mHc-TUwG"
      },
      "source": [
        "# Wifi Password finder run this code by Adminstration "
      ]
    },
    {
      "cell_type": "code",
      "metadata": {
        "id": "qD_A8s4lTUv6",
        "outputId": "b45a832c-4f31-4440-bac3-02168dc9e139"
      },
      "source": [
        " # first we will import the subprocess module\n",
        "import subprocess\n",
        "\n",
        "# now we will store the profiles data in \"data\" variable by \n",
        "# running the 1st cmd command using subprocess.check_output\n",
        "data = subprocess.check_output(['netsh', 'wlan', 'show', 'profiles']).decode('utf-8').split('\\n')\n",
        "\n",
        "# now we will store the profile by converting them to list\n",
        "profiles = [i.split(\":\")[1][1:-1] for i in data if \"All User Profile\" in i]\n",
        "\n",
        "# using for loop in python we are checking and printing the wifi \n",
        "# passwords if they are available using the 2nd cmd command\n",
        "for i in profiles:\n",
        "\n",
        "    # running the 2nd cmd command to check passwords\n",
        "    results = subprocess.check_output(['netsh', 'wlan', 'show', 'profile', i, \n",
        "                        'key=clear']).decode('utf-8').split('\\n')\n",
        "    # storing passwords after converting them to list\n",
        "    results = [b.split(\":\")[1][1:-1] for b in results if \"Key Content\" in b]\n",
        "    # printing the profiles(wifi name) with their passwords using \n",
        "    # try and except method \n",
        "    try:\n",
        "        print (\"{:<30}|  {:<}\".format(i, results[0]))\n",
        "    except IndexError:\n",
        "        print (\"{:<30}|  {:<}\".format(i, \"\"))\n",
        "\n",
        "#         netsh wlan show profile\n",
        "# netsh wlan show profile PROFILE-NAME key=clear"
      ],
      "execution_count": null,
      "outputs": [
        {
          "output_type": "stream",
          "text": [
            "Aman                          |  \n",
            "Netplus                       |  \n"
          ],
          "name": "stdout"
        }
      ]
    },
    {
      "cell_type": "markdown",
      "metadata": {
        "id": "m0a3FK80Tmhi"
      },
      "source": [
        "#It’s pretty but u can do this in CMD.\n",
        "* There are steps:\n",
        "* 1) Open CMD as administrator\n",
        "* 2) Type “netsh wlan show profiles” that’ll show all wifi that u were connected\n",
        "* 3) Type “netsh wlan show profile [name of wifi] key=clear”\n",
        "* 4) It’ll show u password in Key content\n",
        "* That’s all 🙂"
      ]
    },
    {
      "cell_type": "markdown",
      "metadata": {
        "id": "t0o_w88aUoGC"
      },
      "source": [
        "# Text to speach"
      ]
    },
    {
      "cell_type": "code",
      "metadata": {
        "colab": {
          "base_uri": "https://localhost:8080/"
        },
        "id": "RUV31UzhUrRY",
        "outputId": "0d506e42-29cd-46bc-e018-4e9b9f0efb9b"
      },
      "source": [
        "# calendar using python \n",
        "import calendar \n",
        "year =2021\n",
        "print(calendar.calendar(year))\n"
      ],
      "execution_count": 5,
      "outputs": [
        {
          "output_type": "stream",
          "text": [
            "                                  2021\n",
            "\n",
            "      January                   February                   March\n",
            "Mo Tu We Th Fr Sa Su      Mo Tu We Th Fr Sa Su      Mo Tu We Th Fr Sa Su\n",
            "             1  2  3       1  2  3  4  5  6  7       1  2  3  4  5  6  7\n",
            " 4  5  6  7  8  9 10       8  9 10 11 12 13 14       8  9 10 11 12 13 14\n",
            "11 12 13 14 15 16 17      15 16 17 18 19 20 21      15 16 17 18 19 20 21\n",
            "18 19 20 21 22 23 24      22 23 24 25 26 27 28      22 23 24 25 26 27 28\n",
            "25 26 27 28 29 30 31                                29 30 31\n",
            "\n",
            "       April                      May                       June\n",
            "Mo Tu We Th Fr Sa Su      Mo Tu We Th Fr Sa Su      Mo Tu We Th Fr Sa Su\n",
            "          1  2  3  4                      1  2          1  2  3  4  5  6\n",
            " 5  6  7  8  9 10 11       3  4  5  6  7  8  9       7  8  9 10 11 12 13\n",
            "12 13 14 15 16 17 18      10 11 12 13 14 15 16      14 15 16 17 18 19 20\n",
            "19 20 21 22 23 24 25      17 18 19 20 21 22 23      21 22 23 24 25 26 27\n",
            "26 27 28 29 30            24 25 26 27 28 29 30      28 29 30\n",
            "                          31\n",
            "\n",
            "        July                     August                  September\n",
            "Mo Tu We Th Fr Sa Su      Mo Tu We Th Fr Sa Su      Mo Tu We Th Fr Sa Su\n",
            "          1  2  3  4                         1             1  2  3  4  5\n",
            " 5  6  7  8  9 10 11       2  3  4  5  6  7  8       6  7  8  9 10 11 12\n",
            "12 13 14 15 16 17 18       9 10 11 12 13 14 15      13 14 15 16 17 18 19\n",
            "19 20 21 22 23 24 25      16 17 18 19 20 21 22      20 21 22 23 24 25 26\n",
            "26 27 28 29 30 31         23 24 25 26 27 28 29      27 28 29 30\n",
            "                          30 31\n",
            "\n",
            "      October                   November                  December\n",
            "Mo Tu We Th Fr Sa Su      Mo Tu We Th Fr Sa Su      Mo Tu We Th Fr Sa Su\n",
            "             1  2  3       1  2  3  4  5  6  7             1  2  3  4  5\n",
            " 4  5  6  7  8  9 10       8  9 10 11 12 13 14       6  7  8  9 10 11 12\n",
            "11 12 13 14 15 16 17      15 16 17 18 19 20 21      13 14 15 16 17 18 19\n",
            "18 19 20 21 22 23 24      22 23 24 25 26 27 28      20 21 22 23 24 25 26\n",
            "25 26 27 28 29 30 31      29 30                     27 28 29 30 31\n",
            "\n"
          ],
          "name": "stdout"
        }
      ]
    },
    {
      "cell_type": "markdown",
      "metadata": {
        "id": "JHsbizZkVYOq"
      },
      "source": [
        "# Decimal to binary "
      ]
    },
    {
      "cell_type": "code",
      "metadata": {
        "colab": {
          "base_uri": "https://localhost:8080/"
        },
        "id": "STCXSkjRVa3w",
        "outputId": "288692ad-d547-4bd2-f638-ffd7371bda44"
      },
      "source": [
        "# # Decimal to binary \n",
        "decNum =int(input(\"number :\"))\n",
        "binNum = bin(decNum)\n",
        "print(binNum[2:])"
      ],
      "execution_count": 6,
      "outputs": [
        {
          "output_type": "stream",
          "text": [
            "number :10\n",
            "1010\n"
          ],
          "name": "stdout"
        }
      ]
    },
    {
      "cell_type": "markdown",
      "metadata": {
        "id": "gJmSYOLhVgEv"
      },
      "source": [
        "# Binary to decimal"
      ]
    },
    {
      "cell_type": "code",
      "metadata": {
        "colab": {
          "base_uri": "https://localhost:8080/"
        },
        "id": "7j9z2qNaVjHX",
        "outputId": "4b011962-b1c7-41ec-cfc7-2f4e8f46125c"
      },
      "source": [
        "# binary  to Decimal\n",
        "binNum =int(input(\"number :\"))\n",
        "decNum = int(str(binNum),2)\n",
        "print(decNum)"
      ],
      "execution_count": 7,
      "outputs": [
        {
          "output_type": "stream",
          "text": [
            "number :1010\n",
            "10\n"
          ],
          "name": "stdout"
        }
      ]
    },
    {
      "cell_type": "markdown",
      "metadata": {
        "id": "UERaxECEVoEG"
      },
      "source": [
        "# *Captcha img* "
      ]
    },
    {
      "cell_type": "code",
      "metadata": {
        "id": "v7wu1YGzVqhy"
      },
      "source": [
        "# Genrate captcha img\n",
        "\n",
        "from captcha.image import imagecaptcha\n",
        "import random\n",
        "img = imageCaptcha()\n",
        "randomNum= random.randint(1000, 9999)\n",
        "saveImage=img.write(str(randomNum),\"Captcha2.png\")\n"
      ],
      "execution_count": 12,
      "outputs": []
    },
    {
      "cell_type": "markdown",
      "metadata": {
        "id": "oHEUWSh8VzGU"
      },
      "source": [
        "# email verify "
      ]
    },
    {
      "cell_type": "code",
      "metadata": {
        "id": "Mh_Tg_KjV1Qr"
      },
      "source": [
        "# For valid email checing\n",
        "\n",
        "from verify_email import verify_email\n",
        "\n",
        "email =input(\"enter email:\")\n",
        "print(\"validating...\")\n",
        "if verify_email(email):\n",
        "\n",
        "\tprint(\"yes this is valid email\")\n",
        "else:\n",
        "\n",
        "\tprint(\"no  this is not valid email\")"
      ],
      "execution_count": 11,
      "outputs": []
    }
  ]
}