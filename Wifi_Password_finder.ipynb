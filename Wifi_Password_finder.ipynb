{
  "nbformat": 4,
  "nbformat_minor": 0,
  "metadata": {
    "interpreter": {
      "hash": "f371c82f0e1a8b47d879de9d83956d61a027dd46fd89a2669d7c6401fb2a4dec"
    },
    "kernelspec": {
      "display_name": "Python 3.8.8rc1 64-bit",
      "name": "python3"
    },
    "language_info": {
      "name": "python",
      "version": ""
    },
    "orig_nbformat": 4,
    "colab": {
      "name": "Wifi Password finder.ipynb",
      "provenance": [],
      "include_colab_link": true
    }
  },
  "cells": [
    {
      "cell_type": "markdown",
      "metadata": {
        "id": "view-in-github",
        "colab_type": "text"
      },
      "source": [
        "<a href=\"https://colab.research.google.com/github/Amankhalsa/usefull_cmd/blob/main/Wifi_Password_finder.ipynb\" target=\"_parent\"><img src=\"https://colab.research.google.com/assets/colab-badge.svg\" alt=\"Open In Colab\"/></a>"
      ]
    },
    {
      "cell_type": "markdown",
      "metadata": {
        "id": "VU28mHc-TUwG"
      },
      "source": [
        "# Wifi Password finder run this code by Adminstration "
      ]
    },
    {
      "cell_type": "code",
      "metadata": {
        "id": "qD_A8s4lTUv6",
        "outputId": "b45a832c-4f31-4440-bac3-02168dc9e139"
      },
      "source": [
        " # first we will import the subprocess module\n",
        "import subprocess\n",
        "\n",
        "# now we will store the profiles data in \"data\" variable by \n",
        "# running the 1st cmd command using subprocess.check_output\n",
        "data = subprocess.check_output(['netsh', 'wlan', 'show', 'profiles']).decode('utf-8').split('\\n')\n",
        "\n",
        "# now we will store the profile by converting them to list\n",
        "profiles = [i.split(\":\")[1][1:-1] for i in data if \"All User Profile\" in i]\n",
        "\n",
        "# using for loop in python we are checking and printing the wifi \n",
        "# passwords if they are available using the 2nd cmd command\n",
        "for i in profiles:\n",
        "\n",
        "    # running the 2nd cmd command to check passwords\n",
        "    results = subprocess.check_output(['netsh', 'wlan', 'show', 'profile', i, \n",
        "                        'key=clear']).decode('utf-8').split('\\n')\n",
        "    # storing passwords after converting them to list\n",
        "    results = [b.split(\":\")[1][1:-1] for b in results if \"Key Content\" in b]\n",
        "    # printing the profiles(wifi name) with their passwords using \n",
        "    # try and except method \n",
        "    try:\n",
        "        print (\"{:<30}|  {:<}\".format(i, results[0]))\n",
        "    except IndexError:\n",
        "        print (\"{:<30}|  {:<}\".format(i, \"\"))\n",
        "\n",
        "#         netsh wlan show profile\n",
        "# netsh wlan show profile PROFILE-NAME key=clear"
      ],
      "execution_count": null,
      "outputs": [
        {
          "output_type": "stream",
          "text": [
            "Aman                          |  \n",
            "Netplus                       |  \n"
          ],
          "name": "stdout"
        }
      ]
    },
    {
      "cell_type": "markdown",
      "metadata": {
        "id": "m0a3FK80Tmhi"
      },
      "source": [
        "#It’s pretty but u can do this in CMD.\n",
        "* There are steps:\n",
        "* 1) Open CMD as administrator\n",
        "* 2) Type “netsh wlan show profiles” that’ll show all wifi that u were connected\n",
        "* 3) Type “netsh wlan show profile [name of wifi] key=clear”\n",
        "* 4) It’ll show u password in Key content\n",
        "* That’s all 🙂"
      ]
    }
  ]
}